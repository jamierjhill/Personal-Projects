{
 "cells": [
  {
   "cell_type": "markdown",
   "metadata": {},
   "source": [
    "# __Some basic Panda manipulations and visualizations.__"
   ]
  },
  {
   "cell_type": "markdown",
   "metadata": {},
   "source": [
    "## 1. We've all got to start somewhere."
   ]
  },
  {
   "cell_type": "markdown",
   "metadata": {},
   "source": [
    "### Hey. After having read that the best way to consolidate learning is to write about it I thought I'd do exactly that. I am going to start typing up things I have been learning about. So this blog is going to be a place I dump posts and projects I have been working on, like a scrapbook. I'm also bored in quarantine."
   ]
  },
  {
   "cell_type": "markdown",
   "metadata": {},
   "source": [
    "Pandas is a very powerful library in Python that provides easy to use data structures and tools for data analysis. I'm going to play around with some Panda functions and combine them with some matplotlib tools. Matplotlib is a library used for data visualisation; plots, graphs etc. These two libraries combined are foundations for data analysis in Python and are important to have a good grasp on before progressing onto the tougher, more complex but not always more useful tools. \n",
    "<br>\n",
    "<br>\n",
    "https://pandas.pydata.org/pandas-docs/stable/index.html\n",
    "<br>\n",
    "https://matplotlib.org/contents.html\n",
    "<br>\n",
    "<br>\n",
    "I am going to be playing around on an export of my goodreads profile, a small dataset of round 100 rows. All books I have read since the inception of my account in 2015. Once I read a book it is uploaded to my Goodreads."
   ]
  },
  {
   "cell_type": "code",
   "execution_count": 2,
   "metadata": {},
   "outputs": [
    {
     "name": "stdout",
     "output_type": "stream",
     "text": [
      "packages imported\n"
     ]
    }
   ],
   "source": [
    "#Here I am importing packages and libraries. Matplotlib and Pandas being two of them. Using as makes them easier to call later on.\n",
    "import pandas as pd\n",
    "import numpy as np\n",
    "import matplotlib.pyplot as plt\n",
    "from scipy import stats\n",
    "print (\"packages imported\")"
   ]
  },
  {
   "cell_type": "markdown",
   "metadata": {},
   "source": [
    "The first thing I wanted to do was to load in and take a look at my data:"
   ]
  },
  {
   "cell_type": "code",
   "execution_count": 50,
   "metadata": {},
   "outputs": [
    {
     "data": {
      "text/html": [
       "<div>\n",
       "<style scoped>\n",
       "    .dataframe tbody tr th:only-of-type {\n",
       "        vertical-align: middle;\n",
       "    }\n",
       "\n",
       "    .dataframe tbody tr th {\n",
       "        vertical-align: top;\n",
       "    }\n",
       "\n",
       "    .dataframe thead th {\n",
       "        text-align: right;\n",
       "    }\n",
       "</style>\n",
       "<table border=\"1\" class=\"dataframe\">\n",
       "  <thead>\n",
       "    <tr style=\"text-align: right;\">\n",
       "      <th></th>\n",
       "      <th>Book Id</th>\n",
       "      <th>Genre</th>\n",
       "      <th>Title</th>\n",
       "      <th>Author</th>\n",
       "      <th>Author l-f</th>\n",
       "      <th>Additional Authors</th>\n",
       "      <th>ISBN</th>\n",
       "      <th>ISBN13</th>\n",
       "      <th>My Rating</th>\n",
       "      <th>Average Rating</th>\n",
       "      <th>...</th>\n",
       "      <th>Private Notes</th>\n",
       "      <th>Read Count</th>\n",
       "      <th>Recommended For</th>\n",
       "      <th>Recommended By</th>\n",
       "      <th>Owned Copies</th>\n",
       "      <th>Original Purchase Date</th>\n",
       "      <th>Original Purchase Location</th>\n",
       "      <th>Condition</th>\n",
       "      <th>Condition Description</th>\n",
       "      <th>BCID</th>\n",
       "    </tr>\n",
       "  </thead>\n",
       "  <tbody>\n",
       "    <tr>\n",
       "      <th>0</th>\n",
       "      <td>31423133</td>\n",
       "      <td>Self-help</td>\n",
       "      <td>Make Your Bed: Little Things That Can Change Y...</td>\n",
       "      <td>William H. McRaven</td>\n",
       "      <td>McRaven, William H.</td>\n",
       "      <td>NaN</td>\n",
       "      <td>NaN</td>\n",
       "      <td>NaN</td>\n",
       "      <td>4</td>\n",
       "      <td>3.99</td>\n",
       "      <td>...</td>\n",
       "      <td>NaN</td>\n",
       "      <td>1</td>\n",
       "      <td>NaN</td>\n",
       "      <td>NaN</td>\n",
       "      <td>0</td>\n",
       "      <td>NaN</td>\n",
       "      <td>NaN</td>\n",
       "      <td>NaN</td>\n",
       "      <td>NaN</td>\n",
       "      <td>NaN</td>\n",
       "    </tr>\n",
       "    <tr>\n",
       "      <th>1</th>\n",
       "      <td>19148978</td>\n",
       "      <td>Classic</td>\n",
       "      <td>England Your England</td>\n",
       "      <td>George Orwell</td>\n",
       "      <td>Orwell, George</td>\n",
       "      <td>T.R. Fyvel</td>\n",
       "      <td>NaN</td>\n",
       "      <td>NaN</td>\n",
       "      <td>4</td>\n",
       "      <td>3.94</td>\n",
       "      <td>...</td>\n",
       "      <td>NaN</td>\n",
       "      <td>1</td>\n",
       "      <td>NaN</td>\n",
       "      <td>NaN</td>\n",
       "      <td>0</td>\n",
       "      <td>NaN</td>\n",
       "      <td>NaN</td>\n",
       "      <td>NaN</td>\n",
       "      <td>NaN</td>\n",
       "      <td>NaN</td>\n",
       "    </tr>\n",
       "    <tr>\n",
       "      <th>2</th>\n",
       "      <td>38116896</td>\n",
       "      <td>Classic</td>\n",
       "      <td>Notes on Nationalism</td>\n",
       "      <td>George Orwell</td>\n",
       "      <td>Orwell, George</td>\n",
       "      <td>NaN</td>\n",
       "      <td>NaN</td>\n",
       "      <td>NaN</td>\n",
       "      <td>3</td>\n",
       "      <td>4.05</td>\n",
       "      <td>...</td>\n",
       "      <td>NaN</td>\n",
       "      <td>1</td>\n",
       "      <td>NaN</td>\n",
       "      <td>NaN</td>\n",
       "      <td>0</td>\n",
       "      <td>NaN</td>\n",
       "      <td>NaN</td>\n",
       "      <td>NaN</td>\n",
       "      <td>NaN</td>\n",
       "      <td>NaN</td>\n",
       "    </tr>\n",
       "  </tbody>\n",
       "</table>\n",
       "<p>3 rows × 32 columns</p>\n",
       "</div>"
      ],
      "text/plain": [
       "    Book Id      Genre                                              Title  \\\n",
       "0  31423133  Self-help  Make Your Bed: Little Things That Can Change Y...   \n",
       "1  19148978    Classic                               England Your England   \n",
       "2  38116896    Classic                               Notes on Nationalism   \n",
       "\n",
       "               Author           Author l-f Additional Authors ISBN  ISBN13  \\\n",
       "0  William H. McRaven  McRaven, William H.                NaN  NaN     NaN   \n",
       "1       George Orwell       Orwell, George         T.R. Fyvel  NaN     NaN   \n",
       "2       George Orwell       Orwell, George                NaN  NaN     NaN   \n",
       "\n",
       "   My Rating  Average Rating  ... Private Notes Read Count  Recommended For  \\\n",
       "0          4            3.99  ...           NaN          1              NaN   \n",
       "1          4            3.94  ...           NaN          1              NaN   \n",
       "2          3            4.05  ...           NaN          1              NaN   \n",
       "\n",
       "   Recommended By  Owned Copies Original Purchase Date  \\\n",
       "0             NaN             0                    NaN   \n",
       "1             NaN             0                    NaN   \n",
       "2             NaN             0                    NaN   \n",
       "\n",
       "  Original Purchase Location Condition Condition Description BCID  \n",
       "0                        NaN       NaN                   NaN  NaN  \n",
       "1                        NaN       NaN                   NaN  NaN  \n",
       "2                        NaN       NaN                   NaN  NaN  \n",
       "\n",
       "[3 rows x 32 columns]"
      ]
     },
     "execution_count": 50,
     "metadata": {},
     "output_type": "execute_result"
    }
   ],
   "source": [
    "#getting my dataset pathfile\n",
    "path = \"C:/Users/Jamie/Desktop/Python/goodreads_library_export.csv\"\n",
    "\n",
    "#reading in the data to a dataframe using a pandas function \n",
    "df = pd.read_csv(path)\n",
    "\n",
    "#seeing the top 2 rows to check it has imported correctly\n",
    "df.head(3)"
   ]
  },
  {
   "cell_type": "markdown",
   "metadata": {},
   "source": [
    "The dataset contains interesting info such as the average rating of the book, the form I read it in, the genre and the year published. But it also contains a bunch of useless information like owned copies, I typically own just one copy of a book, doesnt everyone? \n",
    "<br>\n",
    "Because of the irrelevance of some columns I to created a new a dataframe with interesting data, df1."
   ]
  },
  {
   "cell_type": "code",
   "execution_count": 6,
   "metadata": {},
   "outputs": [
    {
     "data": {
      "text/html": [
       "<div>\n",
       "<style scoped>\n",
       "    .dataframe tbody tr th:only-of-type {\n",
       "        vertical-align: middle;\n",
       "    }\n",
       "\n",
       "    .dataframe tbody tr th {\n",
       "        vertical-align: top;\n",
       "    }\n",
       "\n",
       "    .dataframe thead th {\n",
       "        text-align: right;\n",
       "    }\n",
       "</style>\n",
       "<table border=\"1\" class=\"dataframe\">\n",
       "  <thead>\n",
       "    <tr style=\"text-align: right;\">\n",
       "      <th></th>\n",
       "      <th>Genre</th>\n",
       "      <th>Title</th>\n",
       "      <th>Author</th>\n",
       "      <th>Average Rating</th>\n",
       "      <th>Binding</th>\n",
       "      <th>Number of Pages</th>\n",
       "      <th>Year Published</th>\n",
       "      <th>Date Added</th>\n",
       "    </tr>\n",
       "  </thead>\n",
       "  <tbody>\n",
       "    <tr>\n",
       "      <th>0</th>\n",
       "      <td>Self-Help</td>\n",
       "      <td>Make Your Bed: Little Things That Can Change Y...</td>\n",
       "      <td>William H. McRaven</td>\n",
       "      <td>3.99</td>\n",
       "      <td>Audiobook</td>\n",
       "      <td>144</td>\n",
       "      <td>2017.0</td>\n",
       "      <td>11/27/2020</td>\n",
       "    </tr>\n",
       "    <tr>\n",
       "      <th>1</th>\n",
       "      <td>Classic</td>\n",
       "      <td>England Your England</td>\n",
       "      <td>George Orwell</td>\n",
       "      <td>3.94</td>\n",
       "      <td>Kindle Edition</td>\n",
       "      <td>36</td>\n",
       "      <td>1941.0</td>\n",
       "      <td>12/6/2020</td>\n",
       "    </tr>\n",
       "    <tr>\n",
       "      <th>2</th>\n",
       "      <td>Classic</td>\n",
       "      <td>Notes on Nationalism</td>\n",
       "      <td>George Orwell</td>\n",
       "      <td>4.05</td>\n",
       "      <td>Kindle Edition</td>\n",
       "      <td>56</td>\n",
       "      <td>2018.0</td>\n",
       "      <td>6/1/2020</td>\n",
       "    </tr>\n",
       "  </tbody>\n",
       "</table>\n",
       "</div>"
      ],
      "text/plain": [
       "       Genre                                              Title  \\\n",
       "0  Self-Help  Make Your Bed: Little Things That Can Change Y...   \n",
       "1    Classic                               England Your England   \n",
       "2    Classic                               Notes on Nationalism   \n",
       "\n",
       "               Author  Average Rating         Binding  Number of Pages  \\\n",
       "0  William H. McRaven            3.99       Audiobook              144   \n",
       "1       George Orwell            3.94  Kindle Edition               36   \n",
       "2       George Orwell            4.05  Kindle Edition               56   \n",
       "\n",
       "   Year Published  Date Added  \n",
       "0          2017.0  11/27/2020  \n",
       "1          1941.0   12/6/2020  \n",
       "2          2018.0    6/1/2020  "
      ]
     },
     "execution_count": 6,
     "metadata": {},
     "output_type": "execute_result"
    }
   ],
   "source": [
    "#Selecting the columns from the original df I wanted to use in new dataframe\n",
    "df1 = pd.DataFrame(df, columns=['Genre', 'Title', 'Author', 'Average Rating', 'Binding', 'Number of Pages', 'Year Published', 'Date Added'])\n",
    "\n",
    "#Here I was formatting the data in the Genre column to Title format, looks smarter\n",
    "df1['Genre'] = df1['Genre'].str.title()\n",
    "\n",
    "df1.head(3)  "
   ]
  },
  {
   "cell_type": "markdown",
   "metadata": {},
   "source": [
    "Ok cool, the useful data is in a workable dataframe so now I can start taking a look at it. \n",
    "<br>"
   ]
  },
  {
   "cell_type": "markdown",
   "metadata": {},
   "source": [
    "Let's say I wanted to find out how many books I have read in different formats, be it Kindle, paperback etc. The value_counts() will be useful for this."
   ]
  },
  {
   "cell_type": "code",
   "execution_count": 7,
   "metadata": {},
   "outputs": [
    {
     "data": {
      "text/plain": [
       "Kindle Edition           37\n",
       "Paperback                30\n",
       "Hardcover                26\n",
       "ebook                     4\n",
       "Mass Market Paperback     1\n",
       "Audiobook                 1\n",
       "Name: Binding, dtype: int64"
      ]
     },
     "execution_count": 7,
     "metadata": {},
     "output_type": "execute_result"
    }
   ],
   "source": [
    "#Selecting the column name and doing a count of the values in that column.\n",
    "df_format = df1['Binding'].value_counts()\n",
    "df_format"
   ]
  },
  {
   "cell_type": "markdown",
   "metadata": {},
   "source": [
    "Not suprisingly I have read the most books on my kindle. Useful to anyone? No. Interesting to me? little bit. \n",
    "<br>\n",
    "Next I want to see the average rating and book length of the books I have read. The .mean() will do the job. I also rounded them to make more sense. I converted the number of pages to an INT because reading a book with 295.36 pages sounds silly and the data type was a FLOAT."
   ]
  },
  {
   "cell_type": "code",
   "execution_count": 54,
   "metadata": {},
   "outputs": [
    {
     "name": "stdout",
     "output_type": "stream",
     "text": [
      "The average book length is: 295 and the average Goodreads rating is: 4.1\n"
     ]
    }
   ],
   "source": [
    "#Selecting the column and finding the mean and rounding.\n",
    "df_length = df1['Number of Pages'].mean().astype(int)\n",
    "df_rating = df1['Average Rating'].mean().round(2)\n",
    "\n",
    "#printing the results\n",
    "print (\"The average book length is:\", df_length, \"and the average Goodreads rating is:\", df_rating)"
   ]
  },
  {
   "cell_type": "markdown",
   "metadata": {},
   "source": [
    "The next thing I want to find out is the year I have read the most books. A book is added to my goodreads account once I read it so the 'Date Added' column is the best measure for when I have read something. To make things easier I have decided to extract the year from that date using the .datetimeindex function and adding that as a new column. This means that we can do a count on the number of books read each year. "
   ]
  },
  {
   "cell_type": "code",
   "execution_count": 55,
   "metadata": {},
   "outputs": [
    {
     "data": {
      "text/plain": [
       "2020    28\n",
       "2016    24\n",
       "2019    15\n",
       "2018    14\n",
       "2017    11\n",
       "2021     4\n",
       "2015     4\n",
       "Name: Year Added, dtype: int64"
      ]
     },
     "execution_count": 55,
     "metadata": {},
     "output_type": "execute_result"
    }
   ],
   "source": [
    "#defining df_year\n",
    "df_year = df1['Year Added'].value_counts()\n",
    "\n",
    "#Extracting the year from the data added column wihc had date in MM/DD/YYYY\n",
    "df1['Year Added'] = pd.DatetimeIndex(df1['Date Added']).year\n",
    "\n",
    "df_year"
   ]
  },
  {
   "cell_type": "markdown",
   "metadata": {},
   "source": [
    "Interestingly the two years I read the most were the year I started college and the year I graduated. Not suprising as the time spent in college was spent reading textbooks instead. \n",
    "<br>"
   ]
  },
  {
   "cell_type": "markdown",
   "metadata": {},
   "source": [
    "Now I want to find my most read genre. I also want to visualize my most read genre using Matplotlib. I will plot my categorical variables in a bar chart."
   ]
  },
  {
   "cell_type": "code",
   "execution_count": 43,
   "metadata": {},
   "outputs": [
    {
     "data": {
      "text/plain": [
       "Text(0.5, 1.0, 'Frequency of books read by genre')"
      ]
     },
     "execution_count": 43,
     "metadata": {},
     "output_type": "execute_result"
    },
    {
     "data": {
      "image/png": "[encoded data removed]",
      "text/plain": [
       "<Figure size 432x288 with 1 Axes>"
      ]
     },
     "metadata": {
      "needs_background": "light"
     },
     "output_type": "display_data"
    }
   ],
   "source": [
    "#find the value counts of my column Genre\n",
    "df_genre = df1['Genre'].value_counts()\n",
    "\n",
    "#plotting and labelling my chart. You can get very complex with charts and graphs but this is a simple form.\n",
    "ax = df_genre.plot(kind = 'bar')\n",
    "ax.set_xlabel(\"Book genre\")\n",
    "ax.set_ylabel(\"Number of books read\")\n",
    "ax.set_title(\"Frequency of books read by genre\")"
   ]
  },
  {
   "cell_type": "markdown",
   "metadata": {},
   "source": [
    "Interestingly I have read self-help books the most out of all genres followed by Classics. \n",
    "<br>"
   ]
  },
  {
   "cell_type": "markdown",
   "metadata": {},
   "source": [
    "Next up, finding which month I read the most. Similar story as with the years. Extract the year, value_count() and plot. This time there I added a layer of complexity as I wanted to align my x-axis from Jan-Dec, instead of the month with the highest value down to the month with the lowest."
   ]
  },
  {
   "cell_type": "code",
   "execution_count": 48,
   "metadata": {},
   "outputs": [
    {
     "data": {
      "text/plain": [
       "Text(0.5, 1.0, 'Frequency of books read by month')"
      ]
     },
     "execution_count": 48,
     "metadata": {},
     "output_type": "execute_result"
    },
    {
     "data": {
      "image/png": "[encoded data removed]",
      "text/plain": [
       "<Figure size 432x288 with 1 Axes>"
      ]
     },
     "metadata": {
      "needs_background": "light"
     },
     "output_type": "display_data"
    }
   ],
   "source": [
    "#defining df_month\n",
    "df_month = df1['Month Added'].value_counts()\n",
    "\n",
    "#extracting month\n",
    "df1['Month Added'] = pd.DatetimeIndex(df1['Date Added']).month_name()\n",
    "\n",
    "#ordering x-axis\n",
    "df_month = df_month.sort_index(key=lambda x: pd.to_datetime(x, format=\"%B\"))\n",
    "\n",
    "#plotting\n",
    "ax = df_month.plot(kind = 'bar')\n",
    "ax.set_xlabel(\"Month\")\n",
    "ax.set_ylabel(\"Number of books read\")\n",
    "ax.set_title(\"Frequency of books read by month\")"
   ]
  },
  {
   "cell_type": "markdown",
   "metadata": {},
   "source": [
    "Are the results: Interesting to me? yeah. Useful to anyone else? nah.\n",
    "<br>\n",
    "But looking at the distribution across the year its clear I read more when I'm not in college (January and July), which makes logical sense for the same reasons as noted before. I also am reading the least when it is finals (May).\n",
    "I also think there is a spike in January because I often tell myself every year I want to read more books, and I therefore have a boost of motivation, which evidently drops off pretty kick.\n",
    "<br>"
   ]
  },
  {
   "cell_type": "markdown",
   "metadata": {},
   "source": [
    "I think I'll leave it there for this one. I will do a follow up with more detailed analysis including regression analysis and some more detailed graphing. If anyone ever reads this hope they found it semi-useful. Leave a comment if you did."
   ]
  }
 ],
 "metadata": {
  "kernelspec": {
   "display_name": "Python 3",
   "language": "python",
   "name": "python3"
  },
  "language_info": {
   "codemirror_mode": {
    "name": "ipython",
    "version": 3
   },
   "file_extension": ".py",
   "mimetype": "text/x-python",
   "name": "python",
   "nbconvert_exporter": "python",
   "pygments_lexer": "ipython3",
   "version": "3.9.1"
  }
 },
 "nbformat": 4,
 "nbformat_minor": 4
}
